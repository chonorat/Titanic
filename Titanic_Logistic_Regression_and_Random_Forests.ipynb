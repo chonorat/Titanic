{
  "nbformat": 4,
  "nbformat_minor": 0,
  "metadata": {
    "colab": {
      "name": "Titanic-Logistic Regression and Random Forests.ipynb",
      "version": "0.3.2",
      "provenance": []
    },
    "language_info": {
      "codemirror_mode": {
        "name": "ipython",
        "version": 3
      },
      "file_extension": ".py",
      "mimetype": "text/x-python",
      "name": "python",
      "nbconvert_exporter": "python",
      "pygments_lexer": "ipython3",
      "version": "3.7.1"
    },
    "kernelspec": {
      "display_name": "Python 3",
      "language": "python",
      "name": "python3"
    }
  },
  "cells": [
    {
      "cell_type": "code",
      "metadata": {
        "id": "Y-8cW0ELcoQ6",
        "colab_type": "code",
        "colab": {}
      },
      "source": [
        "\n",
        "import pandas as pd\n",
        "import math \n",
        "import seaborn as sns\n",
        "import matplotlib.pyplot as plt\n",
        "import sklearn\n",
        "import numpy as np\n",
        "from sklearn.model_selection import train_test_split\n",
        "import statsmodels.api as sm\n",
        "from sklearn.linear_model import LogisticRegression\n",
        "from sklearn.model_selection import cross_val_score\n",
        "from sklearn.model_selection import GridSearchCV\n",
        "from sklearn.ensemble import RandomForestClassifier\n",
        "from sklearn.metrics import confusion_matrix\n",
        "import warnings\n",
        "warnings.filterwarnings(\"ignore\", category=FutureWarning)\n",
        "pd.options.mode.chained_assignment = None  \n",
        "from pandas.plotting import scatter_matrix\n",
        "\n",
        "\n",
        "#Import data\n",
        "pd.set_option('display.max_columns', 500)\n",
        "tit=pd.read_csv(\"https://raw.githubusercontent.com/chonorat/Titanic/master/titanictrain.csv\")\n",
        "test=pd.read_csv(\"https://raw.githubusercontent.com/chonorat/Titanic/master/titanictest.csv\")\n"
      ],
      "execution_count": 0,
      "outputs": []
    },
    {
      "cell_type": "code",
      "metadata": {
        "id": "j6_oHaiYcoQ_",
        "colab_type": "code",
        "colab": {}
      },
      "source": [
        "\n",
        "#Ticket_Sum\n",
        "#This field sums the amount of identical ticket numbers\n",
        "test[\"data\"]=\"test\"\n",
        "tit[\"data\"]=\"train\"\n",
        "tit2=tit\n",
        "tit2=tit2.append(test, ignore_index=True)\n",
        "tit2[\"PlaceHold\"]=1\n",
        "tit2['TicketSum'] = tit2['PlaceHold'].groupby(tit2['Ticket']).transform('sum')\n",
        "tit2[\"SibSp\"]=tit2.SibSp.fillna(tit2.SibSp.median())\n",
        "grouped = tit2.groupby(['Sex','Pclass'])  \n",
        "tit2[\"Age\"]=grouped.Age.fillna(tit2.Age.mean())\n",
        "tit2[\"Pclass\"]=tit2.Pclass.fillna(tit2.Pclass.median())\n",
        "test = tit2[tit2['data'] ==\"test\"]\n",
        "tit = tit2[tit2['data'] ==\"train\"]"
      ],
      "execution_count": 0,
      "outputs": []
    },
    {
      "cell_type": "code",
      "metadata": {
        "id": "eMT9onKrcoRB",
        "colab_type": "code",
        "colab": {}
      },
      "source": [
        "#Split data for Survived/Died plots\n",
        "tit[\"Age\"]=tit.Age.fillna(tit.Age.mean())\n",
        "test[\"Age\"]=test.Age.fillna(test.Age.mean())\n",
        "Survived=tit.loc[tit['Survived'] == 1]\n",
        "Died=tit.loc[tit['Survived'] == 0]"
      ],
      "execution_count": 0,
      "outputs": []
    },
    {
      "cell_type": "code",
      "metadata": {
        "id": "U9sP7oRhcoRE",
        "colab_type": "code",
        "colab": {},
        "outputId": "0218f650-5e5d-4fd9-ccec-f2346e21d9dc"
      },
      "source": [
        "\n",
        "#fare\n",
        "#Passengers who paid less appear to die at a higher rate\n",
        "test[\"Fare\"]=test.Fare.fillna(test.Fare.median())\n",
        "tit[\"Fare\"]=tit.Fare.fillna(tit.Fare.median())\n",
        "plt.figure(1)\n",
        "plt.hist(Survived.Fare,label='Survived',fc=(0, 1, 0, 1))\n",
        "plt.hist(Died.Fare,label='Died',fc=(0, 0, 1, 0.5))\n",
        "plt.legend(loc='upper right')\n",
        "plt.xlabel('Fare')\n",
        "plt.ylabel('Frequency')\n",
        "plt.show(1)\n"
      ],
      "execution_count": 0,
      "outputs": [
        {
          "output_type": "display_data",
          "data": {
            "image/png": "[encoded data removed]",
            "text/plain": [
              "<Figure size 432x288 with 1 Axes>"
            ]
          },
          "metadata": {
            "tags": [],
            "needs_background": "light"
          }
        }
      ]
    },
    {
      "cell_type": "code",
      "metadata": {
        "id": "aJgN9wjccoRM",
        "colab_type": "code",
        "colab": {},
        "outputId": "affbd83a-175b-4c1d-b9f4-d8cdf618c0c4"
      },
      "source": [
        "#Scaled values for fare\n",
        "def fare_scale(tit, test):\n",
        "    for i in [tit, test]:\n",
        "        bins = [0, 50, 100,200,300, 500, np.inf]\n",
        "        names = ['<50', '50-100','100-200','200-300', '300-500', '500+']\n",
        "        i['FareRange'] = pd.cut(tit['Fare'], bins, labels=names)\n",
        "        i[\"FareScale\"]=i.FareRange.replace({'<50':1, '50-100':2,'100-200':2,'200-300':2, '300-500':2, '500+':2})\n",
        "fare_scale(tit,test)\n",
        "\n",
        "plt.figure()\n",
        "sns.countplot(x=\"FareScale\",hue=\"Survived\", data=tit)\n"
      ],
      "execution_count": 0,
      "outputs": [
        {
          "output_type": "execute_result",
          "data": {
            "text/plain": [
              "<matplotlib.axes._subplots.AxesSubplot at 0x24bdb8132b0>"
            ]
          },
          "metadata": {
            "tags": []
          },
          "execution_count": 18
        },
        {
          "output_type": "display_data",
          "data": {
            "image/png": "[encoded data removed]",
            "text/plain": [
              "<Figure size 432x288 with 1 Axes>"
            ]
          },
          "metadata": {
            "tags": [],
            "needs_background": "light"
          }
        }
      ]
    },
    {
      "cell_type": "code",
      "metadata": {
        "id": "dohg1PT1coRP",
        "colab_type": "code",
        "colab": {},
        "outputId": "a7e6dab8-4192-4ed7-80ab-19957d2e5013"
      },
      "source": [
        "#Youth\n",
        "#Individuals under appear to have the highest survival rate\n",
        "plt.figure(2)\n",
        "plt.hist(Survived.Age,label='Survived',fc=(0, 1, 0, 1))\n",
        "plt.hist(Died.Age,label='Died',fc=(0, 0, 1, 0.5))\n",
        "plt.legend(loc='upper right')\n",
        "plt.xlabel('Age')\n",
        "plt.ylabel('Frequency')\n",
        "plt.show(2)\n",
        "\n",
        "tit[\"Youth\"]=1\n",
        "tit.loc[tit.Age>20,\"Youth\"]=0\n",
        "test[\"Youth\"]=1\n",
        "test.loc[test.Age>20,\"Youth\"]=0\n",
        "plt.figure()\n",
        "sns.countplot(x='Youth',hue=\"Survived\", data=tit)\n"
      ],
      "execution_count": 0,
      "outputs": [
        {
          "output_type": "display_data",
          "data": {
            "image/png": "[encoded data removed]",
            "text/plain": [
              "<Figure size 432x288 with 1 Axes>"
            ]
          },
          "metadata": {
            "tags": [],
            "needs_background": "light"
          }
        },
        {
          "output_type": "execute_result",
          "data": {
            "text/plain": [
              "<matplotlib.axes._subplots.AxesSubplot at 0x24bdcb93470>"
            ]
          },
          "metadata": {
            "tags": []
          },
          "execution_count": 19
        },
        {
          "output_type": "display_data",
          "data": {
            "image/png": "[encoded data removed]",
            "text/plain": [
              "<Figure size 432x288 with 1 Axes>"
            ]
          },
          "metadata": {
            "tags": [],
            "needs_background": "light"
          }
        }
      ]
    },
    {
      "cell_type": "code",
      "metadata": {
        "id": "QcnsfsI7coRT",
        "colab_type": "code",
        "colab": {},
        "outputId": "558e58c9-7d42-4f43-f1a0-bfe1513ae8fd"
      },
      "source": [
        "#sex\n",
        "#Men certaintly died at a much higher rate\n",
        "sex_dummies=pd.get_dummies(tit[\"Sex\"],prefix=\"Sex\")\n",
        "tit=tit.join(sex_dummies)\n",
        "sex_dummies1=pd.get_dummies(test[\"Sex\"],prefix=\"Sex\")\n",
        "test=test.join(sex_dummies1)\n",
        "\n",
        "plt.figure()\n",
        "sns.countplot(x='Sex',hue=\"Survived\", data=tit)\n"
      ],
      "execution_count": 0,
      "outputs": [
        {
          "output_type": "execute_result",
          "data": {
            "text/plain": [
              "<matplotlib.axes._subplots.AxesSubplot at 0x24bdb8dd9b0>"
            ]
          },
          "metadata": {
            "tags": []
          },
          "execution_count": 20
        },
        {
          "output_type": "display_data",
          "data": {
            "image/png": "[encoded data removed]",
            "text/plain": [
              "<Figure size 432x288 with 1 Axes>"
            ]
          },
          "metadata": {
            "tags": [],
            "needs_background": "light"
          }
        }
      ]
    },
    {
      "cell_type": "code",
      "metadata": {
        "id": "IRATUoT6coRY",
        "colab_type": "code",
        "colab": {},
        "outputId": "96936342-827d-4d5e-ab78-d5223dec69bb"
      },
      "source": [
        "\n",
        "#Pclass\n",
        "#1st and 2nd class have a similar survival rate while the survival rate for 3rd class is drastically lower.\n",
        "plt.figure()\n",
        "sns.countplot(x='Pclass',hue=\"Survived\", data=tit)\n"
      ],
      "execution_count": 0,
      "outputs": [
        {
          "output_type": "execute_result",
          "data": {
            "text/plain": [
              "<matplotlib.axes._subplots.AxesSubplot at 0x24bdcbc29b0>"
            ]
          },
          "metadata": {
            "tags": []
          },
          "execution_count": 21
        },
        {
          "output_type": "display_data",
          "data": {
            "image/png": "[encoded data removed]",
            "text/plain": [
              "<Figure size 432x288 with 1 Axes>"
            ]
          },
          "metadata": {
            "tags": [],
            "needs_background": "light"
          }
        }
      ]
    },
    {
      "cell_type": "code",
      "metadata": {
        "id": "KkT-YAYicoRc",
        "colab_type": "code",
        "colab": {},
        "outputId": "5ddffc38-2f42-448e-af2a-c21f3feb702b"
      },
      "source": [
        "#Embarked\n",
        "#Individuals who embarked brom \"C\" had the highest survival rate\n",
        "def embarked_impute(tit, test):\n",
        "    for i in [tit, test]:\n",
        "        i['Embarked'] = i['Embarked'].fillna('S')\n",
        "embarked_impute(tit,test)\n",
        "\n",
        "plt.figure()\n",
        "sns.countplot(x='Embarked',hue=\"Survived\", data=tit)\n",
        "\n"
      ],
      "execution_count": 0,
      "outputs": [
        {
          "output_type": "execute_result",
          "data": {
            "text/plain": [
              "<matplotlib.axes._subplots.AxesSubplot at 0x24bdcbf5860>"
            ]
          },
          "metadata": {
            "tags": []
          },
          "execution_count": 22
        },
        {
          "output_type": "display_data",
          "data": {
            "image/png": "[encoded data removed]",
            "text/plain": [
              "<Figure size 432x288 with 1 Axes>"
            ]
          },
          "metadata": {
            "tags": [],
            "needs_background": "light"
          }
        }
      ]
    },
    {
      "cell_type": "code",
      "metadata": {
        "id": "ZNXn_A9McoRg",
        "colab_type": "code",
        "colab": {},
        "outputId": "5fc897a9-88b0-4145-8ea1-06b1487b4f5c"
      },
      "source": [
        "#famliysize\n",
        "#Converted family size into a scaled category\n",
        "def family_scale(tit, test):\n",
        "    for i in [tit, test]:    \n",
        "        i[\"j\"]=i.SibSp+i.Parch\n",
        "        i[\"FamilyScale\"]=i.j.replace({3:1,2:1,1:1,0:2,4:2,5:2,6:2,7:3,10:3})\n",
        "family_scale(tit,test)\n",
        "\n",
        "plt.figure()\n",
        "sns.countplot(x='FamilyScale',hue=\"Survived\", data=tit)\n"
      ],
      "execution_count": 0,
      "outputs": [
        {
          "output_type": "execute_result",
          "data": {
            "text/plain": [
              "<matplotlib.axes._subplots.AxesSubplot at 0x24bdcd2af98>"
            ]
          },
          "metadata": {
            "tags": []
          },
          "execution_count": 23
        },
        {
          "output_type": "display_data",
          "data": {
            "image/png": "[encoded data removed]",
            "text/plain": [
              "<Figure size 432x288 with 1 Axes>"
            ]
          },
          "metadata": {
            "tags": [],
            "needs_background": "light"
          }
        }
      ]
    },
    {
      "cell_type": "code",
      "metadata": {
        "id": "PkPmfLsJcoRk",
        "colab_type": "code",
        "colab": {},
        "outputId": "d6e655a5-b81d-4bb8-eb2a-5f11019891c7"
      },
      "source": [
        "#Cabin\n",
        "#Converted cabin letter to a scaled category.  Passengers with unkown cabins died at the highest rate.\n",
        "def cabin_num(tit, test):\n",
        "    for i in [tit, test]:\n",
        "        i.Cabin = i.Cabin.fillna('Z')\n",
        "        i['CA'] = i['Cabin'].astype(str).str[0]\n",
        "        i[\"CabinScale\"]=i.CA.replace({\"Z\": 1,\"C\": 2,\"E\": 2,\"D\": 2,\"B\": 2,\"G\": 2,\"A\": 1,\"F\": 2,\"T\": 1})\n",
        "cabin_num(tit,test)\n",
        "\n",
        "plt.figure()\n",
        "sns.countplot(x='CabinScale',hue=\"Survived\", data=tit)\n"
      ],
      "execution_count": 0,
      "outputs": [
        {
          "output_type": "execute_result",
          "data": {
            "text/plain": [
              "<matplotlib.axes._subplots.AxesSubplot at 0x24bdcd3d630>"
            ]
          },
          "metadata": {
            "tags": []
          },
          "execution_count": 24
        },
        {
          "output_type": "display_data",
          "data": {
            "image/png": "[encoded data removed]",
            "text/plain": [
              "<Figure size 432x288 with 1 Axes>"
            ]
          },
          "metadata": {
            "tags": [],
            "needs_background": "light"
          }
        }
      ]
    },
    {
      "cell_type": "code",
      "metadata": {
        "id": "eKBn6XY-coRp",
        "colab_type": "code",
        "colab": {},
        "outputId": "db9fe9b3-65fc-4f44-8e14-51dfccd167a8"
      },
      "source": [
        "#ticketsum\n",
        "#Converted the sum of ticket numbers into a scaled category\n",
        "def ticketgroup_scale(tit, test):\n",
        "    for i in [tit, test]:\n",
        "        i[\"TicketSumScale\"]=i.TicketSum.replace({11:1,7:1,6:1,5:1,8:1,1:1,2:2,3:2,4:2})\n",
        "        i[\"TicketSumScale\"]=i.TicketSum.replace({11:1,7:1,6:1,5:1,8:1,1:1,2:2,3:2,4:2})\n",
        "ticketgroup_scale(tit,test)\n",
        "\n",
        "plt.figure()\n",
        "sns.countplot(x='TicketSumScale',hue=\"Survived\", data=tit)\n"
      ],
      "execution_count": 0,
      "outputs": [
        {
          "output_type": "execute_result",
          "data": {
            "text/plain": [
              "<matplotlib.axes._subplots.AxesSubplot at 0x24bdccc8ef0>"
            ]
          },
          "metadata": {
            "tags": []
          },
          "execution_count": 25
        },
        {
          "output_type": "display_data",
          "data": {
            "image/png": "[encoded data removed]",
            "text/plain": [
              "<Figure size 432x288 with 1 Axes>"
            ]
          },
          "metadata": {
            "tags": [],
            "needs_background": "light"
          }
        }
      ]
    },
    {
      "cell_type": "code",
      "metadata": {
        "id": "M1FVQurpcoRs",
        "colab_type": "code",
        "colab": {},
        "outputId": "fe65fb05-3ad7-4b31-f49b-8bf79ea73764"
      },
      "source": [
        "#ticketlength\n",
        "#Converted ticket length into a scaled category\n",
        "def ticketlen_scale(tit, test):\n",
        "    for i in [tit, test]:\n",
        "        i['TickLen']=i.Ticket.apply(len)\n",
        "        i[\"TicketLenScale\"]=i.TickLen.replace({5:3,8:2,3:1,4:1,6:1,7:1,9:1,10:1,11:1,12:1,13:1,15:1,16:1,17:1,18:0})\n",
        "ticketlen_scale(tit,test)\n",
        "\n",
        "plt.figure()\n",
        "sns.countplot(x=\"TicketLenScale\",hue=\"Survived\", data=tit)\n"
      ],
      "execution_count": 0,
      "outputs": [
        {
          "output_type": "execute_result",
          "data": {
            "text/plain": [
              "<matplotlib.axes._subplots.AxesSubplot at 0x24bdcb73588>"
            ]
          },
          "metadata": {
            "tags": []
          },
          "execution_count": 26
        },
        {
          "output_type": "display_data",
          "data": {
            "image/png": "[encoded data removed]",
            "text/plain": [
              "<Figure size 432x288 with 1 Axes>"
            ]
          },
          "metadata": {
            "tags": [],
            "needs_background": "light"
          }
        }
      ]
    },
    {
      "cell_type": "code",
      "metadata": {
        "id": "DTRaNM3lcoRv",
        "colab_type": "code",
        "colab": {},
        "outputId": "6ff5d2f9-0888-4680-e502-daaf8241988b"
      },
      "source": [
        "#Title\n",
        "#Converted titles into a scaled category.  \"Royalty\" and \"Mrs\" had the highest survival rate.\n",
        "def title_scale(tit, test):\n",
        "    for i in [tit, test]:\n",
        "        i['Title'] = i.Name.apply(lambda name: name.split(',')[1].split('.')[0].strip())\n",
        "        i[\"titleform\"]=i.Title.replace({\n",
        "            \"Capt\":       \"Officer\",\n",
        "            \"Col\":        \"Officer\",\n",
        "            \"Major\":      \"Officer\",\n",
        "            \"Jonkheer\":   \"Royalty\",\n",
        "            \"Don\":        \"Royalty\",\n",
        "            \"Sir\" :       \"Royalty\",\n",
        "            \"Dr\":         \"Officer\",\n",
        "            \"Rev\":        \"Officer\",\n",
        "            \"the Countess\":\"Royalty\",\n",
        "            \"Dona\":       \"Royalty\",\n",
        "            \"Mme\":        \"Mrs\",\n",
        "            \"Mlle\":       \"Miss\",\n",
        "            \"Ms\":         \"Mrs\",\n",
        "            \"Mr\" :        \"Mr\",\n",
        "            \"Mrs\" :       \"Mrs\",\n",
        "            \"Miss\" :      \"Miss\",\n",
        "            \"Master\" :    \"Master\",\n",
        "            \"Lady\" :      \"Royalty\"\n",
        "            })\n",
        "        i[\"TitleScale\"]=i.titleform.replace({\"Mr\": 1,\"Officer\": 2,\"Master\": 3,\"Royalty\": 3,\"Mrs\": 4,\"Miss\": 4})\n",
        "title_scale(tit, test)\n",
        "plt.figure()\n",
        "sns.countplot(x=\"TitleScale\",hue=\"Survived\", data=tit)\n"
      ],
      "execution_count": 0,
      "outputs": [
        {
          "output_type": "execute_result",
          "data": {
            "text/plain": [
              "<matplotlib.axes._subplots.AxesSubplot at 0x24bdb3b4d68>"
            ]
          },
          "metadata": {
            "tags": []
          },
          "execution_count": 27
        },
        {
          "output_type": "display_data",
          "data": {
            "image/png": "[encoded data removed]",
            "text/plain": [
              "<Figure size 432x288 with 1 Axes>"
            ]
          },
          "metadata": {
            "tags": [],
            "needs_background": "light"
          }
        }
      ]
    },
    {
      "cell_type": "code",
      "metadata": {
        "id": "c9x2xQCpcoRz",
        "colab_type": "code",
        "colab": {},
        "outputId": "5fdf7c5f-2cad-44ef-f084-312063d7915b"
      },
      "source": [
        "#NameLength\n",
        "#Passengers with longer names had a higher rate of survival\n",
        "tit['NameLen']=tit.Name.apply(len)\n",
        "test['NameLen']=test.Name.apply(len)\n",
        "sns.countplot(x=pd.qcut(tit['NameLen'],5),hue=\"Survived\", data=tit)\n",
        "tit['Survived'].groupby(pd.qcut(tit['NameLen'],5)).mean()\n",
        "\n"
      ],
      "execution_count": 0,
      "outputs": [
        {
          "output_type": "execute_result",
          "data": {
            "text/plain": [
              "NameLen\n",
              "(11.999, 19.0]    0.220588\n",
              "(19.0, 23.0]      0.301282\n",
              "(23.0, 27.0]      0.319797\n",
              "(27.0, 32.0]      0.442424\n",
              "(32.0, 82.0]      0.674556\n",
              "Name: Survived, dtype: float64"
            ]
          },
          "metadata": {
            "tags": []
          },
          "execution_count": 28
        },
        {
          "output_type": "display_data",
          "data": {
            "image/png": "[encoded data removed]",
            "text/plain": [
              "<Figure size 432x288 with 1 Axes>"
            ]
          },
          "metadata": {
            "tags": [],
            "needs_background": "light"
          }
        }
      ]
    },
    {
      "cell_type": "code",
      "metadata": {
        "id": "7--Ef3iycoR7",
        "colab_type": "code",
        "colab": {},
        "outputId": "76bb3bdb-9ec4-4def-c42e-12ab9dc19e96"
      },
      "source": [
        "#NameLetter\n",
        "tit['NameLetter'] = tit.Name.astype(str).str[0]\n",
        "test['NameLetter']  = test.Name.astype(str).str[0]\n",
        "plt.figure()\n",
        "sns.countplot(x='NameLetter',hue=\"Survived\", data=tit)"
      ],
      "execution_count": 0,
      "outputs": [
        {
          "output_type": "execute_result",
          "data": {
            "text/plain": [
              "<matplotlib.axes._subplots.AxesSubplot at 0x24bdcab60f0>"
            ]
          },
          "metadata": {
            "tags": []
          },
          "execution_count": 29
        },
        {
          "output_type": "display_data",
          "data": {
            "image/png": "[encoded data removed]",
            "text/plain": [
              "<Figure size 432x288 with 1 Axes>"
            ]
          },
          "metadata": {
            "tags": [],
            "needs_background": "light"
          }
        }
      ]
    },
    {
      "cell_type": "code",
      "metadata": {
        "id": "U4Hd7zcOcoR-",
        "colab_type": "code",
        "colab": {},
        "outputId": "527454c9-0630-41ea-8afd-da24858fb46c"
      },
      "source": [
        "\n",
        "#LOGISTIC REGRESSION\n",
        "#Set model\n",
        "y=tit.Survived\n",
        "x=tit[[\"Sex_female\",\"CabinScale\",\"Pclass\",\"TitleScale\",\"FamilyScale\",\"TicketLenScale\",\"TicketSum\",'Youth']]\n",
        "xtest=test[[\"Sex_female\",\"CabinScale\",\"Pclass\",\"TitleScale\",\"FamilyScale\",\"TicketLenScale\",\"TicketSum\",'Youth']]\n",
        "logisticRegr = LogisticRegression()\n",
        "logisticRegr.fit(x, y)"
      ],
      "execution_count": 0,
      "outputs": [
        {
          "output_type": "execute_result",
          "data": {
            "text/plain": [
              "LogisticRegression(C=1.0, class_weight=None, dual=False, fit_intercept=True,\n",
              "          intercept_scaling=1, max_iter=100, multi_class='warn',\n",
              "          n_jobs=None, penalty='l2', random_state=None, solver='warn',\n",
              "          tol=0.0001, verbose=0, warm_start=False)"
            ]
          },
          "metadata": {
            "tags": []
          },
          "execution_count": 30
        }
      ]
    },
    {
      "cell_type": "code",
      "metadata": {
        "id": "7Kgo7HY1coSB",
        "colab_type": "code",
        "colab": {}
      },
      "source": [
        "#CV Model Evaluation\n",
        "#I implemented a procedure to assess the quality of the logistic regression model using cross validation and the standard error of the parameters.\n",
        "def model():\n",
        "    global y\n",
        "    global x\n",
        "    y=tit[\"Survived\"]\n",
        "    logisticRegr = LogisticRegression()\n",
        "    CVscores=sklearn.model_selection.cross_val_score(logisticRegr,x,y,cv=10)\n",
        "    CVavg=np.mean(CVscores)\n",
        "    CVstd=np.std(CVscores)\n",
        "    ScorePrint=('Scores-',np.round(CVscores,4),'Average-',CVavg,'Std-',CVstd)\n",
        "    print(\"SCORES-\",np.round(CVscores,4),'\\n')\n",
        "    print(\"AVERAGE-\",np.round(CVavg,4),'\\n')\n",
        "    print(\"STD.DEV.-\",np.round(CVstd,4),'\\n')\n",
        "    logit_model=sm.Logit(y,x)\n",
        "    result=logit_model.fit()\n",
        "    print(result.summary2())"
      ],
      "execution_count": 0,
      "outputs": []
    },
    {
      "cell_type": "code",
      "metadata": {
        "id": "OTNJsLBfcoSE",
        "colab_type": "code",
        "colab": {},
        "outputId": "8af76a48-d5b0-4eab-8752-563d118c54af"
      },
      "source": [
        "model()\n",
        "#The most accurate logistic regression model I formulated contained several statistically insignifigant factors.  However, this is the logistic model which achieved the highest train and test scores."
      ],
      "execution_count": 0,
      "outputs": [
        {
          "output_type": "stream",
          "text": [
            "SCORES- [0.8111 0.8444 0.7978 0.8539 0.8315 0.809  0.8539 0.8315 0.8427 0.8295] \n",
            "\n",
            "AVERAGE- 0.8305 \n",
            "\n",
            "STD.DEV.- 0.0183 \n",
            "\n",
            "Optimization terminated successfully.\n",
            "         Current function value: 0.429806\n",
            "         Iterations 6\n",
            "                         Results: Logit\n",
            "=================================================================\n",
            "Model:              Logit            Pseudo R-squared: 0.355     \n",
            "Dependent Variable: Survived         AIC:              781.9148  \n",
            "Date:               2019-03-26 10:26 BIC:              820.2535  \n",
            "No. Observations:   891              Log-Likelihood:   -382.96   \n",
            "Df Model:           7                LL-Null:          -593.33   \n",
            "Df Residuals:       883              LLR p-value:      8.4809e-87\n",
            "Converged:          1.0000           Scale:            1.0000    \n",
            "No. Iterations:     6.0000                                       \n",
            "-----------------------------------------------------------------\n",
            "                   Coef.  Std.Err.    z    P>|z|   [0.025  0.975]\n",
            "-----------------------------------------------------------------\n",
            "Sex_female        -0.1405   0.5423 -0.2592 0.7955 -1.2034  0.9223\n",
            "CabinScale         0.2567   0.2025  1.2678 0.2049 -0.1402  0.6537\n",
            "Pclass            -0.8810   0.1116 -7.8928 0.0000 -1.0998 -0.6622\n",
            "TitleScale         1.0220   0.1936  5.2802 0.0000  0.6427  1.4014\n",
            "FamilyScale       -0.6131   0.1647 -3.7221 0.0002 -0.9359 -0.2902\n",
            "TicketLenScale     0.1897   0.1285  1.4766 0.1398 -0.0621  0.4416\n",
            "TicketSum         -0.2011   0.0617 -3.2623 0.0011 -0.3220 -0.0803\n",
            "Youth              0.3494   0.2488  1.4043 0.1602 -0.1382  0.8370\n",
            "=================================================================\n",
            "\n"
          ],
          "name": "stdout"
        }
      ]
    },
    {
      "cell_type": "code",
      "metadata": {
        "id": "03MNYJAscoSI",
        "colab_type": "code",
        "colab": {},
        "outputId": "9d1349b4-1fdd-4cd1-9ccf-a132d8e677cb"
      },
      "source": [
        "#Confusion Matrix\n",
        "Y_fitted=pd.Series(logisticRegr.predict(x))\n",
        "\n",
        "cm_df = pd.DataFrame(confusion_matrix(y, Y_fitted),\n",
        "                     index = ['Died','Survived'], \n",
        "                     columns = ['Died','Survived'])\n",
        "plt.figure(figsize=(8,6))\n",
        "sns.heatmap(cm_df,annot=True,cmap='Blues', fmt='g')\n",
        "plt.title('Logistic Regression Confusion Matrix \\nAccuracy:{0:.3f}'.format(logisticRegr.score(x, tit.Survived)))\n",
        "plt.ylabel('True label')\n",
        "plt.xlabel('Predicted label')\n",
        "plt.show()\n"
      ],
      "execution_count": 0,
      "outputs": [
        {
          "output_type": "display_data",
          "data": {
            "image/png": "[encoded data removed]",
            "text/plain": [
              "<Figure size 576x432 with 2 Axes>"
            ]
          },
          "metadata": {
            "tags": [],
            "needs_background": "light"
          }
        }
      ]
    },
    {
      "cell_type": "code",
      "metadata": {
        "id": "xcbIuqw4coSM",
        "colab_type": "code",
        "colab": {}
      },
      "source": [
        "#RANDOM FORESTS\n",
        "#Set Continous Variables\n",
        "Train_RF=tit[['Fare','NameLen','Age']]\n",
        "Test_RF=test[['Fare','NameLen','Age']]\n",
        "\n",
        "#Create and add dummy variables\n",
        "columns = ['Pclass', 'CabinScale', 'TitleScale','TicketSum','Sex','Embarked','FamilyScale']\n",
        "for column in columns:\n",
        "    Train_RF[column] = tit[column].apply(lambda x: str(x))\n",
        "    Test_RF[column] = test[column].apply(lambda x: str(x))\n",
        "    good_cols = [column+'_'+i for i in Train_RF[column].unique() if i in Test_RF[column].unique()]\n",
        "    Train_RF= pd.concat((Train_RF, pd.get_dummies(Train_RF[column], prefix = column)[good_cols]), axis = 1)\n",
        "    Test_RF = pd.concat((Test_RF, pd.get_dummies(Test_RF[column], prefix = column)[good_cols]), axis = 1)\n",
        "\n",
        "#Drop Unneeded Variables\n",
        "Test_RF=Test_RF.drop(['Pclass', 'CabinScale', 'TitleScale','TicketSum','Sex','Embarked','FamilyScale'], axis=1)\n",
        "Train_RF=Train_RF.drop(['Pclass', 'CabinScale', 'TitleScale','TicketSum','Sex','Embarked','FamilyScale'], axis=1)\n",
        "\n",
        "#SetModel\n",
        "y=tit[\"Survived\"]"
      ],
      "execution_count": 0,
      "outputs": []
    },
    {
      "cell_type": "code",
      "metadata": {
        "id": "Hl8276MacoSO",
        "colab_type": "code",
        "colab": {},
        "outputId": "8f5e1933-5456-4c70-f6fe-b0dac250586f"
      },
      "source": [
        "#Gridsearch for optimal RF hyperparameters\n",
        "rf = RandomForestClassifier(max_features='auto',\n",
        "                                oob_score=True,\n",
        "                                random_state=1,\n",
        "                                n_jobs=-1)\n",
        "\n",
        "param_grid = { \"criterion\"   : [\"gini\", \"entropy\"],\n",
        "             \"min_samples_leaf\" : [1, 5, 10],\n",
        "             \"min_samples_split\" : [ 10, 12, 16],\n",
        "             \"n_estimators\": [50, 100, 400]}\n",
        "\n",
        "gs = GridSearchCV(estimator=rf,\n",
        "                  param_grid=param_grid,\n",
        "                  scoring='accuracy',\n",
        "                  cv=3,\n",
        "                  n_jobs=-1)\n",
        "\n",
        "#Fit optimal model and print score\n",
        "gs = gs.fit(Train_RF, y)\n",
        "print(gs.best_score_)\n",
        "print(gs.best_params_)"
      ],
      "execution_count": 0,
      "outputs": [
        {
          "output_type": "stream",
          "text": [
            "0.8316498316498316\n",
            "{'criterion': 'gini', 'min_samples_leaf': 1, 'min_samples_split': 12, 'n_estimators': 100}\n"
          ],
          "name": "stdout"
        }
      ]
    },
    {
      "cell_type": "code",
      "metadata": {
        "id": "sBefNpk7coSS",
        "colab_type": "code",
        "colab": {},
        "outputId": "f89ad31a-8139-4000-ca50-335449483451"
      },
      "source": [
        "#Define RF model with optimal hyperparameters\n",
        "rf = RandomForestClassifier(criterion='gini', \n",
        "                             n_estimators=100,\n",
        "                             min_samples_split=10,\n",
        "                             min_samples_leaf=1,\n",
        "                             max_features='auto',\n",
        "                             oob_score=True,\n",
        "                             random_state=1,\n",
        "\t\t\t     n_jobs=-1)\n",
        "\n",
        "#Fit Model                             \n",
        "rf.fit(Train_RF, y)"
      ],
      "execution_count": 0,
      "outputs": [
        {
          "output_type": "execute_result",
          "data": {
            "text/plain": [
              "RandomForestClassifier(bootstrap=True, class_weight=None, criterion='gini',\n",
              "            max_depth=None, max_features='auto', max_leaf_nodes=None,\n",
              "            min_impurity_decrease=0.0, min_impurity_split=None,\n",
              "            min_samples_leaf=1, min_samples_split=10,\n",
              "            min_weight_fraction_leaf=0.0, n_estimators=100, n_jobs=-1,\n",
              "            oob_score=True, random_state=1, verbose=0, warm_start=False)"
            ]
          },
          "metadata": {
            "tags": []
          },
          "execution_count": 36
        }
      ]
    },
    {
      "cell_type": "code",
      "metadata": {
        "id": "dD0piQ4IcoSV",
        "colab_type": "code",
        "colab": {},
        "outputId": "c6e09903-fd8c-40e1-eaff-434e5b5ca767"
      },
      "source": [
        "\n",
        "#Calculate variable importance\n",
        "results=pd.concat((pd.DataFrame(Train_RF.columns, columns = ['variable']), \n",
        "pd.DataFrame(rf.feature_importances_, columns = ['importance'])), \n",
        "axis = 1).sort_values(by='importance', ascending = False)[:20]\n",
        "print(results)"
      ],
      "execution_count": 0,
      "outputs": [
        {
          "output_type": "stream",
          "text": [
            "         variable  importance\n",
            "21       Sex_male    0.123024\n",
            "0            Fare    0.107344\n",
            "1         NameLen    0.105830\n",
            "2             Age    0.097721\n",
            "22     Sex_female    0.095039\n",
            "9    TitleScale_4    0.086456\n",
            "8    TitleScale_1    0.080302\n",
            "3        Pclass_3    0.046111\n",
            "7    CabinScale_2    0.033462\n",
            "6    CabinScale_1    0.029077\n",
            "4        Pclass_1    0.022791\n",
            "26  FamilyScale_1    0.019619\n",
            "5        Pclass_2    0.019604\n",
            "23     Embarked_S    0.015899\n",
            "27  FamilyScale_2    0.013842\n",
            "10   TitleScale_3    0.012929\n",
            "12    TicketSum_1    0.012461\n",
            "15    TicketSum_3    0.012019\n",
            "24     Embarked_C    0.009846\n",
            "14    TicketSum_5    0.008039\n"
          ],
          "name": "stdout"
        }
      ]
    },
    {
      "cell_type": "code",
      "metadata": {
        "id": "S4wmAD5ycoSY",
        "colab_type": "code",
        "colab": {},
        "outputId": "d80a7d7f-1475-491d-c56e-2bbfc98faede"
      },
      "source": [
        "#Confusion Matrix\n",
        "#Random Forests appears to perform better on the training data than Logistic regression, although there may be some overfitting.\n",
        "#RF was used for the final prediction, which scored .80382.\n",
        "Y_fitted=pd.Series(rf.predict(Train_RF))\n",
        "\n",
        "cm_df = pd.DataFrame(confusion_matrix(y, Y_fitted),\n",
        "                     index = ['Died','Survived'], \n",
        "                     columns = ['Died','Survived'])\n",
        "plt.figure(figsize=(8,6))\n",
        "sns.heatmap(cm_df,annot=True,cmap='Blues', fmt='g')\n",
        "plt.title('Random Forests Confusion Matrix \\nAccuracy:{0:.3f}'.format(rf.score(Train_RF, tit.Survived)))\n",
        "plt.ylabel('True label')\n",
        "plt.xlabel('Predicted label')\n",
        "plt.show()\n",
        "\n"
      ],
      "execution_count": 0,
      "outputs": [
        {
          "output_type": "display_data",
          "data": {
            "image/png": "[encoded data removed]",
            "text/plain": [
              "<Figure size 576x432 with 2 Axes>"
            ]
          },
          "metadata": {
            "tags": [],
            "needs_background": "light"
          }
        }
      ]
    },
    {
      "cell_type": "code",
      "metadata": {
        "id": "NkN89tqQcoSe",
        "colab_type": "code",
        "colab": {}
      },
      "source": [
        "#Predict Values\n",
        "Y_pred_rf=rf.predict(Test_RF)\n",
        "submission_RF = pd.DataFrame({'PassengerId':test['PassengerId'],'Survived':Y_pred_rf})"
      ],
      "execution_count": 0,
      "outputs": []
    },
    {
      "cell_type": "code",
      "metadata": {
        "id": "Eh7tItgDcoSh",
        "colab_type": "code",
        "colab": {},
        "outputId": "4ca3d5c6-2998-4060-a40d-9bd4210401aa"
      },
      "source": [
        "submission_RF"
      ],
      "execution_count": 0,
      "outputs": [
        {
          "output_type": "execute_result",
          "data": {
            "text/html": [
              "<div>\n",
              "<style scoped>\n",
              "    .dataframe tbody tr th:only-of-type {\n",
              "        vertical-align: middle;\n",
              "    }\n",
              "\n",
              "    .dataframe tbody tr th {\n",
              "        vertical-align: top;\n",
              "    }\n",
              "\n",
              "    .dataframe thead th {\n",
              "        text-align: right;\n",
              "    }\n",
              "</style>\n",
              "<table border=\"1\" class=\"dataframe\">\n",
              "  <thead>\n",
              "    <tr style=\"text-align: right;\">\n",
              "      <th></th>\n",
              "      <th>PassengerId</th>\n",
              "      <th>Survived</th>\n",
              "    </tr>\n",
              "  </thead>\n",
              "  <tbody>\n",
              "    <tr>\n",
              "      <th>891</th>\n",
              "      <td>892</td>\n",
              "      <td>0.0</td>\n",
              "    </tr>\n",
              "    <tr>\n",
              "      <th>892</th>\n",
              "      <td>893</td>\n",
              "      <td>0.0</td>\n",
              "    </tr>\n",
              "    <tr>\n",
              "      <th>893</th>\n",
              "      <td>894</td>\n",
              "      <td>0.0</td>\n",
              "    </tr>\n",
              "    <tr>\n",
              "      <th>894</th>\n",
              "      <td>895</td>\n",
              "      <td>0.0</td>\n",
              "    </tr>\n",
              "    <tr>\n",
              "      <th>895</th>\n",
              "      <td>896</td>\n",
              "      <td>1.0</td>\n",
              "    </tr>\n",
              "    <tr>\n",
              "      <th>896</th>\n",
              "      <td>897</td>\n",
              "      <td>0.0</td>\n",
              "    </tr>\n",
              "    <tr>\n",
              "      <th>897</th>\n",
              "      <td>898</td>\n",
              "      <td>1.0</td>\n",
              "    </tr>\n",
              "    <tr>\n",
              "      <th>898</th>\n",
              "      <td>899</td>\n",
              "      <td>0.0</td>\n",
              "    </tr>\n",
              "    <tr>\n",
              "      <th>899</th>\n",
              "      <td>900</td>\n",
              "      <td>1.0</td>\n",
              "    </tr>\n",
              "    <tr>\n",
              "      <th>900</th>\n",
              "      <td>901</td>\n",
              "      <td>0.0</td>\n",
              "    </tr>\n",
              "    <tr>\n",
              "      <th>901</th>\n",
              "      <td>902</td>\n",
              "      <td>0.0</td>\n",
              "    </tr>\n",
              "    <tr>\n",
              "      <th>902</th>\n",
              "      <td>903</td>\n",
              "      <td>0.0</td>\n",
              "    </tr>\n",
              "    <tr>\n",
              "      <th>903</th>\n",
              "      <td>904</td>\n",
              "      <td>1.0</td>\n",
              "    </tr>\n",
              "    <tr>\n",
              "      <th>904</th>\n",
              "      <td>905</td>\n",
              "      <td>0.0</td>\n",
              "    </tr>\n",
              "    <tr>\n",
              "      <th>905</th>\n",
              "      <td>906</td>\n",
              "      <td>1.0</td>\n",
              "    </tr>\n",
              "    <tr>\n",
              "      <th>906</th>\n",
              "      <td>907</td>\n",
              "      <td>1.0</td>\n",
              "    </tr>\n",
              "    <tr>\n",
              "      <th>907</th>\n",
              "      <td>908</td>\n",
              "      <td>0.0</td>\n",
              "    </tr>\n",
              "    <tr>\n",
              "      <th>908</th>\n",
              "      <td>909</td>\n",
              "      <td>0.0</td>\n",
              "    </tr>\n",
              "    <tr>\n",
              "      <th>909</th>\n",
              "      <td>910</td>\n",
              "      <td>0.0</td>\n",
              "    </tr>\n",
              "    <tr>\n",
              "      <th>910</th>\n",
              "      <td>911</td>\n",
              "      <td>1.0</td>\n",
              "    </tr>\n",
              "    <tr>\n",
              "      <th>911</th>\n",
              "      <td>912</td>\n",
              "      <td>0.0</td>\n",
              "    </tr>\n",
              "    <tr>\n",
              "      <th>912</th>\n",
              "      <td>913</td>\n",
              "      <td>1.0</td>\n",
              "    </tr>\n",
              "    <tr>\n",
              "      <th>913</th>\n",
              "      <td>914</td>\n",
              "      <td>1.0</td>\n",
              "    </tr>\n",
              "    <tr>\n",
              "      <th>914</th>\n",
              "      <td>915</td>\n",
              "      <td>0.0</td>\n",
              "    </tr>\n",
              "    <tr>\n",
              "      <th>915</th>\n",
              "      <td>916</td>\n",
              "      <td>1.0</td>\n",
              "    </tr>\n",
              "    <tr>\n",
              "      <th>916</th>\n",
              "      <td>917</td>\n",
              "      <td>0.0</td>\n",
              "    </tr>\n",
              "    <tr>\n",
              "      <th>917</th>\n",
              "      <td>918</td>\n",
              "      <td>1.0</td>\n",
              "    </tr>\n",
              "    <tr>\n",
              "      <th>918</th>\n",
              "      <td>919</td>\n",
              "      <td>0.0</td>\n",
              "    </tr>\n",
              "    <tr>\n",
              "      <th>919</th>\n",
              "      <td>920</td>\n",
              "      <td>0.0</td>\n",
              "    </tr>\n",
              "    <tr>\n",
              "      <th>920</th>\n",
              "      <td>921</td>\n",
              "      <td>0.0</td>\n",
              "    </tr>\n",
              "    <tr>\n",
              "      <th>...</th>\n",
              "      <td>...</td>\n",
              "      <td>...</td>\n",
              "    </tr>\n",
              "    <tr>\n",
              "      <th>1279</th>\n",
              "      <td>1280</td>\n",
              "      <td>0.0</td>\n",
              "    </tr>\n",
              "    <tr>\n",
              "      <th>1280</th>\n",
              "      <td>1281</td>\n",
              "      <td>0.0</td>\n",
              "    </tr>\n",
              "    <tr>\n",
              "      <th>1281</th>\n",
              "      <td>1282</td>\n",
              "      <td>0.0</td>\n",
              "    </tr>\n",
              "    <tr>\n",
              "      <th>1282</th>\n",
              "      <td>1283</td>\n",
              "      <td>1.0</td>\n",
              "    </tr>\n",
              "    <tr>\n",
              "      <th>1283</th>\n",
              "      <td>1284</td>\n",
              "      <td>1.0</td>\n",
              "    </tr>\n",
              "    <tr>\n",
              "      <th>1284</th>\n",
              "      <td>1285</td>\n",
              "      <td>0.0</td>\n",
              "    </tr>\n",
              "    <tr>\n",
              "      <th>1285</th>\n",
              "      <td>1286</td>\n",
              "      <td>0.0</td>\n",
              "    </tr>\n",
              "    <tr>\n",
              "      <th>1286</th>\n",
              "      <td>1287</td>\n",
              "      <td>1.0</td>\n",
              "    </tr>\n",
              "    <tr>\n",
              "      <th>1287</th>\n",
              "      <td>1288</td>\n",
              "      <td>0.0</td>\n",
              "    </tr>\n",
              "    <tr>\n",
              "      <th>1288</th>\n",
              "      <td>1289</td>\n",
              "      <td>1.0</td>\n",
              "    </tr>\n",
              "    <tr>\n",
              "      <th>1289</th>\n",
              "      <td>1290</td>\n",
              "      <td>0.0</td>\n",
              "    </tr>\n",
              "    <tr>\n",
              "      <th>1290</th>\n",
              "      <td>1291</td>\n",
              "      <td>0.0</td>\n",
              "    </tr>\n",
              "    <tr>\n",
              "      <th>1291</th>\n",
              "      <td>1292</td>\n",
              "      <td>1.0</td>\n",
              "    </tr>\n",
              "    <tr>\n",
              "      <th>1292</th>\n",
              "      <td>1293</td>\n",
              "      <td>0.0</td>\n",
              "    </tr>\n",
              "    <tr>\n",
              "      <th>1293</th>\n",
              "      <td>1294</td>\n",
              "      <td>1.0</td>\n",
              "    </tr>\n",
              "    <tr>\n",
              "      <th>1294</th>\n",
              "      <td>1295</td>\n",
              "      <td>0.0</td>\n",
              "    </tr>\n",
              "    <tr>\n",
              "      <th>1295</th>\n",
              "      <td>1296</td>\n",
              "      <td>0.0</td>\n",
              "    </tr>\n",
              "    <tr>\n",
              "      <th>1296</th>\n",
              "      <td>1297</td>\n",
              "      <td>1.0</td>\n",
              "    </tr>\n",
              "    <tr>\n",
              "      <th>1297</th>\n",
              "      <td>1298</td>\n",
              "      <td>0.0</td>\n",
              "    </tr>\n",
              "    <tr>\n",
              "      <th>1298</th>\n",
              "      <td>1299</td>\n",
              "      <td>0.0</td>\n",
              "    </tr>\n",
              "    <tr>\n",
              "      <th>1299</th>\n",
              "      <td>1300</td>\n",
              "      <td>1.0</td>\n",
              "    </tr>\n",
              "    <tr>\n",
              "      <th>1300</th>\n",
              "      <td>1301</td>\n",
              "      <td>1.0</td>\n",
              "    </tr>\n",
              "    <tr>\n",
              "      <th>1301</th>\n",
              "      <td>1302</td>\n",
              "      <td>1.0</td>\n",
              "    </tr>\n",
              "    <tr>\n",
              "      <th>1302</th>\n",
              "      <td>1303</td>\n",
              "      <td>1.0</td>\n",
              "    </tr>\n",
              "    <tr>\n",
              "      <th>1303</th>\n",
              "      <td>1304</td>\n",
              "      <td>0.0</td>\n",
              "    </tr>\n",
              "    <tr>\n",
              "      <th>1304</th>\n",
              "      <td>1305</td>\n",
              "      <td>0.0</td>\n",
              "    </tr>\n",
              "    <tr>\n",
              "      <th>1305</th>\n",
              "      <td>1306</td>\n",
              "      <td>1.0</td>\n",
              "    </tr>\n",
              "    <tr>\n",
              "      <th>1306</th>\n",
              "      <td>1307</td>\n",
              "      <td>0.0</td>\n",
              "    </tr>\n",
              "    <tr>\n",
              "      <th>1307</th>\n",
              "      <td>1308</td>\n",
              "      <td>0.0</td>\n",
              "    </tr>\n",
              "    <tr>\n",
              "      <th>1308</th>\n",
              "      <td>1309</td>\n",
              "      <td>1.0</td>\n",
              "    </tr>\n",
              "  </tbody>\n",
              "</table>\n",
              "<p>418 rows × 2 columns</p>\n",
              "</div>"
            ],
            "text/plain": [
              "      PassengerId  Survived\n",
              "891           892       0.0\n",
              "892           893       0.0\n",
              "893           894       0.0\n",
              "894           895       0.0\n",
              "895           896       1.0\n",
              "896           897       0.0\n",
              "897           898       1.0\n",
              "898           899       0.0\n",
              "899           900       1.0\n",
              "900           901       0.0\n",
              "901           902       0.0\n",
              "902           903       0.0\n",
              "903           904       1.0\n",
              "904           905       0.0\n",
              "905           906       1.0\n",
              "906           907       1.0\n",
              "907           908       0.0\n",
              "908           909       0.0\n",
              "909           910       0.0\n",
              "910           911       1.0\n",
              "911           912       0.0\n",
              "912           913       1.0\n",
              "913           914       1.0\n",
              "914           915       0.0\n",
              "915           916       1.0\n",
              "916           917       0.0\n",
              "917           918       1.0\n",
              "918           919       0.0\n",
              "919           920       0.0\n",
              "920           921       0.0\n",
              "...           ...       ...\n",
              "1279         1280       0.0\n",
              "1280         1281       0.0\n",
              "1281         1282       0.0\n",
              "1282         1283       1.0\n",
              "1283         1284       1.0\n",
              "1284         1285       0.0\n",
              "1285         1286       0.0\n",
              "1286         1287       1.0\n",
              "1287         1288       0.0\n",
              "1288         1289       1.0\n",
              "1289         1290       0.0\n",
              "1290         1291       0.0\n",
              "1291         1292       1.0\n",
              "1292         1293       0.0\n",
              "1293         1294       1.0\n",
              "1294         1295       0.0\n",
              "1295         1296       0.0\n",
              "1296         1297       1.0\n",
              "1297         1298       0.0\n",
              "1298         1299       0.0\n",
              "1299         1300       1.0\n",
              "1300         1301       1.0\n",
              "1301         1302       1.0\n",
              "1302         1303       1.0\n",
              "1303         1304       0.0\n",
              "1304         1305       0.0\n",
              "1305         1306       1.0\n",
              "1306         1307       0.0\n",
              "1307         1308       0.0\n",
              "1308         1309       1.0\n",
              "\n",
              "[418 rows x 2 columns]"
            ]
          },
          "metadata": {
            "tags": []
          },
          "execution_count": 27
        }
      ]
    },
    {
      "cell_type": "code",
      "metadata": {
        "id": "0_5ka8w3coSm",
        "colab_type": "code",
        "colab": {}
      },
      "source": [
        "submission_RF.to_csv(\"titanic_submission.csv\", index=None)"
      ],
      "execution_count": 0,
      "outputs": []
    },
    {
      "cell_type": "code",
      "metadata": {
        "id": "o-OsXyIXcoSo",
        "colab_type": "code",
        "colab": {}
      },
      "source": [
        ""
      ],
      "execution_count": 0,
      "outputs": []
    },
    {
      "cell_type": "code",
      "metadata": {
        "id": "xxkcvSsQcoSr",
        "colab_type": "code",
        "colab": {}
      },
      "source": [
        ""
      ],
      "execution_count": 0,
      "outputs": []
    },
    {
      "cell_type": "code",
      "metadata": {
        "id": "xSF6jGkCcoSu",
        "colab_type": "code",
        "colab": {}
      },
      "source": [
        ""
      ],
      "execution_count": 0,
      "outputs": []
    }
  ]
}